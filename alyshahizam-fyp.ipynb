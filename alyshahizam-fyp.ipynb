{
 "cells": [
  {
   "cell_type": "code",
   "execution_count": 22,
   "id": "b1964ce2",
   "metadata": {},
   "outputs": [
    {
     "data": {
      "text/html": [
       "\n",
       "            <style>\n",
       "                .geemap-dark {\n",
       "                    --jp-widgets-color: white;\n",
       "                    --jp-widgets-label-color: white;\n",
       "                    --jp-ui-font-color1: white;\n",
       "                    --jp-layout-color2: #454545;\n",
       "                    background-color: #383838;\n",
       "                }\n",
       "\n",
       "                .geemap-dark .jupyter-button {\n",
       "                    --jp-layout-color3: #383838;\n",
       "                }\n",
       "\n",
       "                .geemap-colab {\n",
       "                    background-color: var(--colab-primary-surface-color, white);\n",
       "                }\n",
       "\n",
       "                .geemap-colab .jupyter-button {\n",
       "                    --jp-layout-color3: var(--colab-primary-surface-color, white);\n",
       "                }\n",
       "            </style>\n",
       "            "
      ],
      "text/plain": [
       "<IPython.core.display.HTML object>"
      ]
     },
     "metadata": {},
     "output_type": "display_data"
    }
   ],
   "source": [
    "!pip install earthengine-api geemap --quiet\n",
    "!pip install rasterio --quiet"
   ]
  },
  {
   "cell_type": "code",
   "execution_count": 271,
   "id": "842fac1f",
   "metadata": {},
   "outputs": [
    {
     "data": {
      "text/html": [
       "\n",
       "            <style>\n",
       "                .geemap-dark {\n",
       "                    --jp-widgets-color: white;\n",
       "                    --jp-widgets-label-color: white;\n",
       "                    --jp-ui-font-color1: white;\n",
       "                    --jp-layout-color2: #454545;\n",
       "                    background-color: #383838;\n",
       "                }\n",
       "\n",
       "                .geemap-dark .jupyter-button {\n",
       "                    --jp-layout-color3: #383838;\n",
       "                }\n",
       "\n",
       "                .geemap-colab {\n",
       "                    background-color: var(--colab-primary-surface-color, white);\n",
       "                }\n",
       "\n",
       "                .geemap-colab .jupyter-button {\n",
       "                    --jp-layout-color3: var(--colab-primary-surface-color, white);\n",
       "                }\n",
       "            </style>\n",
       "            "
      ],
      "text/plain": [
       "<IPython.core.display.HTML object>"
      ]
     },
     "metadata": {},
     "output_type": "display_data"
    }
   ],
   "source": [
    "import ee\n",
    "import geemap.foliumap as geemap\n",
    "import numpy as np\n",
    "import rasterio\n",
    "from rasterio.transform import from_origin\n",
    "\n",
    "from sklearn.model_selection import train_test_split\n",
    "import tensorflow as tf\n",
    "from tensorflow import keras\n",
    "from tensorflow.keras import layers, models\n",
    "from tensorflow.keras import Input, Model\n",
    "from tensorflow.keras.layers import LSTM, Dense, Dropout\n",
    "from tensorflow.keras.layers import Concatenate\n",
    "\n",
    "import requests\n",
    "import pandas as pd\n",
    "from datetime import datetime, timedelta"
   ]
  },
  {
   "cell_type": "code",
   "execution_count": 24,
   "id": "c5a8d8f8",
   "metadata": {},
   "outputs": [
    {
     "data": {
      "text/html": [
       "\n",
       "            <style>\n",
       "                .geemap-dark {\n",
       "                    --jp-widgets-color: white;\n",
       "                    --jp-widgets-label-color: white;\n",
       "                    --jp-ui-font-color1: white;\n",
       "                    --jp-layout-color2: #454545;\n",
       "                    background-color: #383838;\n",
       "                }\n",
       "\n",
       "                .geemap-dark .jupyter-button {\n",
       "                    --jp-layout-color3: #383838;\n",
       "                }\n",
       "\n",
       "                .geemap-colab {\n",
       "                    background-color: var(--colab-primary-surface-color, white);\n",
       "                }\n",
       "\n",
       "                .geemap-colab .jupyter-button {\n",
       "                    --jp-layout-color3: var(--colab-primary-surface-color, white);\n",
       "                }\n",
       "            </style>\n",
       "            "
      ],
      "text/plain": [
       "<IPython.core.display.HTML object>"
      ]
     },
     "metadata": {},
     "output_type": "display_data"
    }
   ],
   "source": [
    "ee.Authenticate()\n",
    "ee.Initialize()"
   ]
  },
  {
   "cell_type": "markdown",
   "id": "78ef5716",
   "metadata": {},
   "source": [
    "Filtering Singapore's geographical boundary"
   ]
  },
  {
   "cell_type": "code",
   "execution_count": 73,
   "id": "9892546d",
   "metadata": {},
   "outputs": [
    {
     "data": {
      "text/html": [
       "\n",
       "            <style>\n",
       "                .geemap-dark {\n",
       "                    --jp-widgets-color: white;\n",
       "                    --jp-widgets-label-color: white;\n",
       "                    --jp-ui-font-color1: white;\n",
       "                    --jp-layout-color2: #454545;\n",
       "                    background-color: #383838;\n",
       "                }\n",
       "\n",
       "                .geemap-dark .jupyter-button {\n",
       "                    --jp-layout-color3: #383838;\n",
       "                }\n",
       "\n",
       "                .geemap-colab {\n",
       "                    background-color: var(--colab-primary-surface-color, white);\n",
       "                }\n",
       "\n",
       "                .geemap-colab .jupyter-button {\n",
       "                    --jp-layout-color3: var(--colab-primary-surface-color, white);\n",
       "                }\n",
       "            </style>\n",
       "            "
      ],
      "text/plain": [
       "<IPython.core.display.HTML object>"
      ]
     },
     "metadata": {},
     "output_type": "display_data"
    }
   ],
   "source": [
    "singapore = ee.FeatureCollection(\"FAO/GAUL_SIMPLIFIED_500m/2015/level1\") \\\n",
    "             .filter(ee.Filter.eq('ADM0_NAME', 'Singapore'))"
   ]
  },
  {
   "cell_type": "markdown",
   "id": "2452f08f",
   "metadata": {},
   "source": [
    "Loading satellite data fromn Sentinel-1/2, MODIS"
   ]
  },
  {
   "cell_type": "code",
   "execution_count": 74,
   "id": "81ea74c5",
   "metadata": {},
   "outputs": [
    {
     "data": {
      "text/html": [
       "\n",
       "            <style>\n",
       "                .geemap-dark {\n",
       "                    --jp-widgets-color: white;\n",
       "                    --jp-widgets-label-color: white;\n",
       "                    --jp-ui-font-color1: white;\n",
       "                    --jp-layout-color2: #454545;\n",
       "                    background-color: #383838;\n",
       "                }\n",
       "\n",
       "                .geemap-dark .jupyter-button {\n",
       "                    --jp-layout-color3: #383838;\n",
       "                }\n",
       "\n",
       "                .geemap-colab {\n",
       "                    background-color: var(--colab-primary-surface-color, white);\n",
       "                }\n",
       "\n",
       "                .geemap-colab .jupyter-button {\n",
       "                    --jp-layout-color3: var(--colab-primary-surface-color, white);\n",
       "                }\n",
       "            </style>\n",
       "            "
      ],
      "text/plain": [
       "<IPython.core.display.HTML object>"
      ]
     },
     "metadata": {},
     "output_type": "display_data"
    }
   ],
   "source": [
    "sentinel2 = ee.ImageCollection(\"COPERNICUS/S2_HARMONIZED\") \\\n",
    "    .filterBounds(singapore) \\\n",
    "    .filterDate('2024-01-01', '2025-04-22') \\\n",
    "    .filter(ee.Filter.lt('CLOUDY_PIXEL_PERCENTAGE', 10)) \\\n",
    "    .median()\n"
   ]
  },
  {
   "cell_type": "markdown",
   "id": "c7af66d3",
   "metadata": {},
   "source": [
    "NDVI calc. from sentinel-2 (NIR-RED) / (NIR+RED)\n",
    "-visible green within each pixel of image (high vegetation density, high NDVI)"
   ]
  },
  {
   "cell_type": "code",
   "execution_count": 113,
   "id": "0a11113e",
   "metadata": {},
   "outputs": [
    {
     "data": {
      "text/html": [
       "\n",
       "            <style>\n",
       "                .geemap-dark {\n",
       "                    --jp-widgets-color: white;\n",
       "                    --jp-widgets-label-color: white;\n",
       "                    --jp-ui-font-color1: white;\n",
       "                    --jp-layout-color2: #454545;\n",
       "                    background-color: #383838;\n",
       "                }\n",
       "\n",
       "                .geemap-dark .jupyter-button {\n",
       "                    --jp-layout-color3: #383838;\n",
       "                }\n",
       "\n",
       "                .geemap-colab {\n",
       "                    background-color: var(--colab-primary-surface-color, white);\n",
       "                }\n",
       "\n",
       "                .geemap-colab .jupyter-button {\n",
       "                    --jp-layout-color3: var(--colab-primary-surface-color, white);\n",
       "                }\n",
       "            </style>\n",
       "            "
      ],
      "text/plain": [
       "<IPython.core.display.HTML object>"
      ]
     },
     "metadata": {},
     "output_type": "display_data"
    }
   ],
   "source": [
    "ndvi = sentinel2.normalizedDifference(['B5', 'B4']).rename('NDVI')\n",
    "\n",
    "palette = [ 'FFFFFF', 'CE7E45', 'DF923D', 'F1B555', 'FCD163', '99B718',\n",
    "  '74A901', '66A000', '529400', '3E8601', '207401', '056201',\n",
    "  '004C00', '023B01', '012E01', '011D01', '011301'] "
   ]
  },
  {
   "cell_type": "code",
   "execution_count": 114,
   "id": "a3d77af7",
   "metadata": {},
   "outputs": [
    {
     "data": {
      "text/html": [
       "\n",
       "            <style>\n",
       "                .geemap-dark {\n",
       "                    --jp-widgets-color: white;\n",
       "                    --jp-widgets-label-color: white;\n",
       "                    --jp-ui-font-color1: white;\n",
       "                    --jp-layout-color2: #454545;\n",
       "                    background-color: #383838;\n",
       "                }\n",
       "\n",
       "                .geemap-dark .jupyter-button {\n",
       "                    --jp-layout-color3: #383838;\n",
       "                }\n",
       "\n",
       "                .geemap-colab {\n",
       "                    background-color: var(--colab-primary-surface-color, white);\n",
       "                }\n",
       "\n",
       "                .geemap-colab .jupyter-button {\n",
       "                    --jp-layout-color3: var(--colab-primary-surface-color, white);\n",
       "                }\n",
       "            </style>\n",
       "            "
      ],
      "text/plain": [
       "<IPython.core.display.HTML object>"
      ]
     },
     "metadata": {},
     "output_type": "display_data"
    }
   ],
   "source": [
    "Map = geemap.Map(center=[1.3521, 103.8198], zoom=11)\n",
    "\n"
   ]
  },
  {
   "cell_type": "markdown",
   "id": "c04b1083",
   "metadata": {},
   "source": [
    "Map.addLayer(ndvi, {'min': 0, 'max': 1, 'palette': palette }, 'NDVI')"
   ]
  },
  {
   "cell_type": "markdown",
   "id": "d39c41da",
   "metadata": {},
   "source": [
    "Map"
   ]
  },
  {
   "cell_type": "markdown",
   "id": "3106cba7",
   "metadata": {},
   "source": [
    "MODIS land surface temperature (MODIS/061/MOD11A2)"
   ]
  },
  {
   "cell_type": "code",
   "execution_count": 115,
   "id": "5d143252",
   "metadata": {
    "scrolled": true
   },
   "outputs": [
    {
     "data": {
      "text/html": [
       "\n",
       "            <style>\n",
       "                .geemap-dark {\n",
       "                    --jp-widgets-color: white;\n",
       "                    --jp-widgets-label-color: white;\n",
       "                    --jp-ui-font-color1: white;\n",
       "                    --jp-layout-color2: #454545;\n",
       "                    background-color: #383838;\n",
       "                }\n",
       "\n",
       "                .geemap-dark .jupyter-button {\n",
       "                    --jp-layout-color3: #383838;\n",
       "                }\n",
       "\n",
       "                .geemap-colab {\n",
       "                    background-color: var(--colab-primary-surface-color, white);\n",
       "                }\n",
       "\n",
       "                .geemap-colab .jupyter-button {\n",
       "                    --jp-layout-color3: var(--colab-primary-surface-color, white);\n",
       "                }\n",
       "            </style>\n",
       "            "
      ],
      "text/plain": [
       "<IPython.core.display.HTML object>"
      ]
     },
     "metadata": {},
     "output_type": "display_data"
    }
   ],
   "source": [
    "modis_lst = ee.ImageCollection(\"MODIS/061/MOD11A2\") \\\n",
    "    .filterDate('2024-01-01', '2025-04-20') \\\n",
    "    .filterBounds(singapore) \\\n",
    "    .select('LST_Day_1km') \\\n",
    "    .mean() \\\n",
    "    .multiply(0.02).subtract(273.15) \\\n",
    "    .rename('LST') \\\n",
    "    .clip(singapore)# Convert to Celsius"
   ]
  },
  {
   "cell_type": "markdown",
   "id": "1f23beb8",
   "metadata": {},
   "source": [
    "Sentinel-1 for backscatter for land surface and urban analysis\n",
    "Backscatter - measure of radar echo power returned by unit area of target's surface (localised measure of target surface reflects radar waves)"
   ]
  },
  {
   "cell_type": "code",
   "execution_count": 116,
   "id": "9d2afed0",
   "metadata": {},
   "outputs": [
    {
     "data": {
      "text/html": [
       "\n",
       "            <style>\n",
       "                .geemap-dark {\n",
       "                    --jp-widgets-color: white;\n",
       "                    --jp-widgets-label-color: white;\n",
       "                    --jp-ui-font-color1: white;\n",
       "                    --jp-layout-color2: #454545;\n",
       "                    background-color: #383838;\n",
       "                }\n",
       "\n",
       "                .geemap-dark .jupyter-button {\n",
       "                    --jp-layout-color3: #383838;\n",
       "                }\n",
       "\n",
       "                .geemap-colab {\n",
       "                    background-color: var(--colab-primary-surface-color, white);\n",
       "                }\n",
       "\n",
       "                .geemap-colab .jupyter-button {\n",
       "                    --jp-layout-color3: var(--colab-primary-surface-color, white);\n",
       "                }\n",
       "            </style>\n",
       "            "
      ],
      "text/plain": [
       "<IPython.core.display.HTML object>"
      ]
     },
     "metadata": {},
     "output_type": "display_data"
    }
   ],
   "source": [
    "sentinel1 = ee.ImageCollection('COPERNICUS/S1_GRD') \\\n",
    "    .filterBounds(singapore) \\\n",
    "    .filterDate('2024-01-01', '2025-04-20') \\\n",
    "    .filter(ee.Filter.eq('instrumentMode', 'IW')) \\\n",
    "    .filter(ee.Filter.eq('orbitProperties_pass', 'DESCENDING')) \\\n",
    "    .filter(ee.Filter.listContains('transmitterReceiverPolarisation', 'VV')) \\\n",
    "    .filter(ee.Filter.eq('resolution_meters', 10)) \\\n",
    "    .select('VV') \\\n",
    "    .median().clip(singapore) \\\n",
    "    .rename('S1_VV')"
   ]
  },
  {
   "cell_type": "code",
   "execution_count": 117,
   "id": "4c8e22df",
   "metadata": {},
   "outputs": [
    {
     "data": {
      "text/html": [
       "\n",
       "            <style>\n",
       "                .geemap-dark {\n",
       "                    --jp-widgets-color: white;\n",
       "                    --jp-widgets-label-color: white;\n",
       "                    --jp-ui-font-color1: white;\n",
       "                    --jp-layout-color2: #454545;\n",
       "                    background-color: #383838;\n",
       "                }\n",
       "\n",
       "                .geemap-dark .jupyter-button {\n",
       "                    --jp-layout-color3: #383838;\n",
       "                }\n",
       "\n",
       "                .geemap-colab {\n",
       "                    background-color: var(--colab-primary-surface-color, white);\n",
       "                }\n",
       "\n",
       "                .geemap-colab .jupyter-button {\n",
       "                    --jp-layout-color3: var(--colab-primary-surface-color, white);\n",
       "                }\n",
       "            </style>\n",
       "            "
      ],
      "text/plain": [
       "<IPython.core.display.HTML object>"
      ]
     },
     "metadata": {},
     "output_type": "display_data"
    }
   ],
   "source": [
    "Map.addLayer(sentinel1, {\n",
    "    'min': -25,\n",
    "    'max': 0,\n",
    "    'palette': ['white', 'blue', 'black']\n",
    "}, 'Sentinel-1 VV Median')\n"
   ]
  },
  {
   "cell_type": "code",
   "execution_count": 118,
   "id": "ecbb2507",
   "metadata": {},
   "outputs": [
    {
     "data": {
      "text/html": [
       "\n",
       "            <style>\n",
       "                .geemap-dark {\n",
       "                    --jp-widgets-color: white;\n",
       "                    --jp-widgets-label-color: white;\n",
       "                    --jp-ui-font-color1: white;\n",
       "                    --jp-layout-color2: #454545;\n",
       "                    background-color: #383838;\n",
       "                }\n",
       "\n",
       "                .geemap-dark .jupyter-button {\n",
       "                    --jp-layout-color3: #383838;\n",
       "                }\n",
       "\n",
       "                .geemap-colab {\n",
       "                    background-color: var(--colab-primary-surface-color, white);\n",
       "                }\n",
       "\n",
       "                .geemap-colab .jupyter-button {\n",
       "                    --jp-layout-color3: var(--colab-primary-surface-color, white);\n",
       "                }\n",
       "            </style>\n",
       "            "
      ],
      "text/plain": [
       "<IPython.core.display.HTML object>"
      ]
     },
     "metadata": {},
     "output_type": "display_data"
    }
   ],
   "source": [
    "Map.addLayer(modis_lst, {'min': 20, 'max': 35, 'palette': ['blue', 'yellow', 'red']}, 'LST')\n",
    "Map.addLayer(ndvi, {'min': 0, 'max': 0.5, 'palette': palette}, 'NDVI')\n",
    "\n"
   ]
  },
  {
   "cell_type": "code",
   "execution_count": 119,
   "id": "0b1b8186",
   "metadata": {},
   "outputs": [
    {
     "data": {
      "text/html": [
       "\n",
       "            <style>\n",
       "                .geemap-dark {\n",
       "                    --jp-widgets-color: white;\n",
       "                    --jp-widgets-label-color: white;\n",
       "                    --jp-ui-font-color1: white;\n",
       "                    --jp-layout-color2: #454545;\n",
       "                    background-color: #383838;\n",
       "                }\n",
       "\n",
       "                .geemap-dark .jupyter-button {\n",
       "                    --jp-layout-color3: #383838;\n",
       "                }\n",
       "\n",
       "                .geemap-colab {\n",
       "                    background-color: var(--colab-primary-surface-color, white);\n",
       "                }\n",
       "\n",
       "                .geemap-colab .jupyter-button {\n",
       "                    --jp-layout-color3: var(--colab-primary-surface-color, white);\n",
       "                }\n",
       "            </style>\n",
       "            "
      ],
      "text/plain": [
       "<IPython.core.display.HTML object>"
      ]
     },
     "metadata": {},
     "output_type": "display_data"
    }
   ],
   "source": [
    "Map.addLayer(singapore, {}, 'Singapore Boundary')"
   ]
  },
  {
   "cell_type": "code",
   "execution_count": 120,
   "id": "16b89174",
   "metadata": {
    "scrolled": true
   },
   "outputs": [
    {
     "data": {
      "text/html": [
       "\n",
       "            <style>\n",
       "                .geemap-dark {\n",
       "                    --jp-widgets-color: white;\n",
       "                    --jp-widgets-label-color: white;\n",
       "                    --jp-ui-font-color1: white;\n",
       "                    --jp-layout-color2: #454545;\n",
       "                    background-color: #383838;\n",
       "                }\n",
       "\n",
       "                .geemap-dark .jupyter-button {\n",
       "                    --jp-layout-color3: #383838;\n",
       "                }\n",
       "\n",
       "                .geemap-colab {\n",
       "                    background-color: var(--colab-primary-surface-color, white);\n",
       "                }\n",
       "\n",
       "                .geemap-colab .jupyter-button {\n",
       "                    --jp-layout-color3: var(--colab-primary-surface-color, white);\n",
       "                }\n",
       "            </style>\n",
       "            "
      ],
      "text/plain": [
       "<IPython.core.display.HTML object>"
      ]
     },
     "metadata": {},
     "output_type": "display_data"
    },
    {
     "data": {
      "text/html": [
       "<iframe srcdoc=\"&lt;!DOCTYPE html&gt;\n",
       "&lt;html&gt;\n",
       "&lt;head&gt;\n",
       "    \n",
       "    &lt;meta http-equiv=&quot;content-type&quot; content=&quot;text/html; charset=UTF-8&quot; /&gt;\n",
       "    \n",
       "        &lt;script&gt;\n",
       "            L_NO_TOUCH = false;\n",
       "            L_DISABLE_3D = false;\n",
       "        &lt;/script&gt;\n",
       "    \n",
       "    &lt;style&gt;html, body {width: 100%;height: 100%;margin: 0;padding: 0;}&lt;/style&gt;\n",
       "    &lt;style&gt;#map {position:absolute;top:0;bottom:0;right:0;left:0;}&lt;/style&gt;\n",
       "    &lt;script src=&quot;https://cdn.jsdelivr.net/npm/leaflet@1.9.3/dist/leaflet.js&quot;&gt;&lt;/script&gt;\n",
       "    &lt;script src=&quot;https://code.jquery.com/jquery-3.7.1.min.js&quot;&gt;&lt;/script&gt;\n",
       "    &lt;script src=&quot;https://cdn.jsdelivr.net/npm/bootstrap@5.2.2/dist/js/bootstrap.bundle.min.js&quot;&gt;&lt;/script&gt;\n",
       "    &lt;script src=&quot;https://cdnjs.cloudflare.com/ajax/libs/Leaflet.awesome-markers/2.0.2/leaflet.awesome-markers.js&quot;&gt;&lt;/script&gt;\n",
       "    &lt;link rel=&quot;stylesheet&quot; href=&quot;https://cdn.jsdelivr.net/npm/leaflet@1.9.3/dist/leaflet.css&quot;/&gt;\n",
       "    &lt;link rel=&quot;stylesheet&quot; href=&quot;https://cdn.jsdelivr.net/npm/bootstrap@5.2.2/dist/css/bootstrap.min.css&quot;/&gt;\n",
       "    &lt;link rel=&quot;stylesheet&quot; href=&quot;https://netdna.bootstrapcdn.com/bootstrap/3.0.0/css/bootstrap-glyphicons.css&quot;/&gt;\n",
       "    &lt;link rel=&quot;stylesheet&quot; href=&quot;https://cdn.jsdelivr.net/npm/@fortawesome/fontawesome-free@6.2.0/css/all.min.css&quot;/&gt;\n",
       "    &lt;link rel=&quot;stylesheet&quot; href=&quot;https://cdnjs.cloudflare.com/ajax/libs/Leaflet.awesome-markers/2.0.2/leaflet.awesome-markers.css&quot;/&gt;\n",
       "    &lt;link rel=&quot;stylesheet&quot; href=&quot;https://cdn.jsdelivr.net/gh/python-visualization/folium/folium/templates/leaflet.awesome.rotate.min.css&quot;/&gt;\n",
       "    \n",
       "            &lt;meta name=&quot;viewport&quot; content=&quot;width=device-width,\n",
       "                initial-scale=1.0, maximum-scale=1.0, user-scalable=no&quot; /&gt;\n",
       "            &lt;style&gt;\n",
       "                #map_55516e099e57b9144f039ad7d2083bf0 {\n",
       "                    position: relative;\n",
       "                    width: 100.0%;\n",
       "                    height: 100.0%;\n",
       "                    left: 0.0%;\n",
       "                    top: 0.0%;\n",
       "                }\n",
       "                .leaflet-container { font-size: 1rem; }\n",
       "            &lt;/style&gt;\n",
       "        \n",
       "    &lt;script src=&quot;https://cdn.jsdelivr.net/npm/leaflet.fullscreen@3.0.0/Control.FullScreen.min.js&quot;&gt;&lt;/script&gt;\n",
       "    &lt;link rel=&quot;stylesheet&quot; href=&quot;https://cdn.jsdelivr.net/npm/leaflet.fullscreen@3.0.0/Control.FullScreen.css&quot;/&gt;\n",
       "    &lt;script src=&quot;https://cdnjs.cloudflare.com/ajax/libs/leaflet.draw/1.0.2/leaflet.draw.js&quot;&gt;&lt;/script&gt;\n",
       "    &lt;link rel=&quot;stylesheet&quot; href=&quot;https://cdnjs.cloudflare.com/ajax/libs/leaflet.draw/1.0.2/leaflet.draw.css&quot;/&gt;\n",
       "    &lt;script src=&quot;https://unpkg.com/leaflet-control-geocoder/dist/Control.Geocoder.js&quot;&gt;&lt;/script&gt;\n",
       "    &lt;link rel=&quot;stylesheet&quot; href=&quot;https://unpkg.com/leaflet-control-geocoder/dist/Control.Geocoder.css&quot;/&gt;\n",
       "&lt;/head&gt;\n",
       "&lt;body&gt;\n",
       "    \n",
       "    \n",
       "            &lt;div class=&quot;folium-map&quot; id=&quot;map_55516e099e57b9144f039ad7d2083bf0&quot; &gt;&lt;/div&gt;\n",
       "        \n",
       "&lt;/body&gt;\n",
       "&lt;script&gt;\n",
       "    \n",
       "    \n",
       "            var map_55516e099e57b9144f039ad7d2083bf0 = L.map(\n",
       "                &quot;map_55516e099e57b9144f039ad7d2083bf0&quot;,\n",
       "                {\n",
       "                    center: [1.3521, 103.8198],\n",
       "                    crs: L.CRS.EPSG3857,\n",
       "                    ...{\n",
       "  &quot;zoom&quot;: 11,\n",
       "  &quot;zoomControl&quot;: true,\n",
       "  &quot;preferCanvas&quot;: false,\n",
       "  &quot;eeInitialize&quot;: true,\n",
       "  &quot;addGoogleMap&quot;: false,\n",
       "  &quot;pluginLatlngpopup&quot;: false,\n",
       "  &quot;pluginFullscreen&quot;: true,\n",
       "  &quot;pluginDraw&quot;: true,\n",
       "  &quot;DrawExport&quot;: false,\n",
       "  &quot;pluginMinimap&quot;: false,\n",
       "  &quot;locateControl&quot;: false,\n",
       "  &quot;searchControl&quot;: true,\n",
       "  &quot;layersControl&quot;: true,\n",
       "}\n",
       "\n",
       "                }\n",
       "            );\n",
       "\n",
       "            \n",
       "\n",
       "        \n",
       "    \n",
       "            var tile_layer_2047de512383dff62e505c540d2ce1c9 = L.tileLayer(\n",
       "                &quot;https://tile.openstreetmap.org/{z}/{x}/{y}.png&quot;,\n",
       "                {\n",
       "  &quot;minZoom&quot;: 0,\n",
       "  &quot;maxZoom&quot;: 30,\n",
       "  &quot;maxNativeZoom&quot;: 30,\n",
       "  &quot;noWrap&quot;: false,\n",
       "  &quot;attribution&quot;: &quot;\\u0026copy; \\u003ca href=\\&quot;https://www.openstreetmap.org/copyright\\&quot;\\u003eOpenStreetMap\\u003c/a\\u003e contributors&quot;,\n",
       "  &quot;subdomains&quot;: &quot;abc&quot;,\n",
       "  &quot;detectRetina&quot;: false,\n",
       "  &quot;tms&quot;: false,\n",
       "  &quot;opacity&quot;: 1,\n",
       "}\n",
       "\n",
       "            );\n",
       "        \n",
       "    \n",
       "            tile_layer_2047de512383dff62e505c540d2ce1c9.addTo(map_55516e099e57b9144f039ad7d2083bf0);\n",
       "        \n",
       "    \n",
       "            L.control.fullscreen(\n",
       "                {\n",
       "  &quot;position&quot;: &quot;topleft&quot;,\n",
       "  &quot;title&quot;: &quot;Full Screen&quot;,\n",
       "  &quot;titleCancel&quot;: &quot;Exit Full Screen&quot;,\n",
       "  &quot;forceSeparateButton&quot;: false,\n",
       "}\n",
       "            ).addTo(map_55516e099e57b9144f039ad7d2083bf0);\n",
       "        \n",
       "    \n",
       "            var options = {\n",
       "              position: &quot;topleft&quot;,\n",
       "              draw: {},\n",
       "              edit: {},\n",
       "            }\n",
       "                // FeatureGroup is to store editable layers.\n",
       "                var drawnItems_draw_control_b54ad92287bb03caf395a9163105f587 =\n",
       "                    new L.featureGroup().addTo(\n",
       "                        map_55516e099e57b9144f039ad7d2083bf0\n",
       "                    );\n",
       "\n",
       "            options.edit.featureGroup = drawnItems_draw_control_b54ad92287bb03caf395a9163105f587;\n",
       "            var draw_control_b54ad92287bb03caf395a9163105f587 = new L.Control.Draw(\n",
       "                options\n",
       "            ).addTo( map_55516e099e57b9144f039ad7d2083bf0 );\n",
       "            map_55516e099e57b9144f039ad7d2083bf0.on(L.Draw.Event.CREATED, function(e) {\n",
       "                var layer = e.layer,\n",
       "                    type = e.layerType;\n",
       "                var coords = JSON.stringify(layer.toGeoJSON());\n",
       "                layer.on(&#x27;click&#x27;, function() {\n",
       "                    alert(coords);\n",
       "                    console.log(coords);\n",
       "                });\n",
       "                drawnItems_draw_control_b54ad92287bb03caf395a9163105f587.addLayer(layer);\n",
       "            });\n",
       "            map_55516e099e57b9144f039ad7d2083bf0.on(&#x27;draw:created&#x27;, function(e) {\n",
       "                drawnItems_draw_control_b54ad92287bb03caf395a9163105f587.addLayer(e.layer);\n",
       "            });\n",
       "\n",
       "            \n",
       "        \n",
       "    \n",
       "\n",
       "            var geocoderOpts_geocoder_56ffeb3af166d52d1ce1def814ec0f6c = {\n",
       "  &quot;collapsed&quot;: true,\n",
       "  &quot;position&quot;: &quot;topleft&quot;,\n",
       "  &quot;defaultMarkGeocode&quot;: true,\n",
       "  &quot;zoom&quot;: 11,\n",
       "  &quot;provider&quot;: &quot;nominatim&quot;,\n",
       "  &quot;providerOptions&quot;: {\n",
       "},\n",
       "};\n",
       "\n",
       "            // note: geocoder name should start with lowercase\n",
       "            var geocoderName_geocoder_56ffeb3af166d52d1ce1def814ec0f6c = geocoderOpts_geocoder_56ffeb3af166d52d1ce1def814ec0f6c[&quot;provider&quot;];\n",
       "\n",
       "            var customGeocoder_geocoder_56ffeb3af166d52d1ce1def814ec0f6c = L.Control.Geocoder[ geocoderName_geocoder_56ffeb3af166d52d1ce1def814ec0f6c ](\n",
       "                geocoderOpts_geocoder_56ffeb3af166d52d1ce1def814ec0f6c[&#x27;providerOptions&#x27;]\n",
       "            );\n",
       "            geocoderOpts_geocoder_56ffeb3af166d52d1ce1def814ec0f6c[&quot;geocoder&quot;] = customGeocoder_geocoder_56ffeb3af166d52d1ce1def814ec0f6c;\n",
       "\n",
       "            L.Control.geocoder(\n",
       "                geocoderOpts_geocoder_56ffeb3af166d52d1ce1def814ec0f6c\n",
       "            ).on(&#x27;markgeocode&#x27;, function(e) {\n",
       "                var zoom = geocoderOpts_geocoder_56ffeb3af166d52d1ce1def814ec0f6c[&#x27;zoom&#x27;] || map_55516e099e57b9144f039ad7d2083bf0.getZoom();\n",
       "                map_55516e099e57b9144f039ad7d2083bf0.setView(e.geocode.center, zoom);\n",
       "            }).addTo(map_55516e099e57b9144f039ad7d2083bf0);\n",
       "\n",
       "        \n",
       "    \n",
       "            map_55516e099e57b9144f039ad7d2083bf0.fitBounds(\n",
       "                [[1.3521, 103.8198], [1.3521, 103.8198]],\n",
       "                {&quot;maxZoom&quot;: 11}\n",
       "            );\n",
       "        \n",
       "    \n",
       "            var tile_layer_72612c888fd6e5d7dee455bcc71f505d = L.tileLayer(\n",
       "                &quot;https://earthengine.googleapis.com/v1/projects/742985967975/maps/796ff7944aa3e1fadf1de6ffe603e720-db7b7a1793ccb31c7e5cceae5c3884ad/tiles/{z}/{x}/{y}&quot;,\n",
       "                {\n",
       "  &quot;minZoom&quot;: 0,\n",
       "  &quot;maxZoom&quot;: 24,\n",
       "  &quot;maxNativeZoom&quot;: 24,\n",
       "  &quot;noWrap&quot;: false,\n",
       "  &quot;attribution&quot;: &quot;Google Earth Engine&quot;,\n",
       "  &quot;subdomains&quot;: &quot;abc&quot;,\n",
       "  &quot;detectRetina&quot;: false,\n",
       "  &quot;tms&quot;: false,\n",
       "  &quot;opacity&quot;: 1.0,\n",
       "}\n",
       "\n",
       "            );\n",
       "        \n",
       "    \n",
       "            tile_layer_72612c888fd6e5d7dee455bcc71f505d.addTo(map_55516e099e57b9144f039ad7d2083bf0);\n",
       "        \n",
       "    \n",
       "            var tile_layer_322358fff3409d388e3ea9876153d759 = L.tileLayer(\n",
       "                &quot;https://earthengine.googleapis.com/v1/projects/742985967975/maps/4b47a5803cef954f62d92556a2780638-ff3622fa3bdf1e4bd4ae8193f0b6f341/tiles/{z}/{x}/{y}&quot;,\n",
       "                {\n",
       "  &quot;minZoom&quot;: 0,\n",
       "  &quot;maxZoom&quot;: 24,\n",
       "  &quot;maxNativeZoom&quot;: 24,\n",
       "  &quot;noWrap&quot;: false,\n",
       "  &quot;attribution&quot;: &quot;Google Earth Engine&quot;,\n",
       "  &quot;subdomains&quot;: &quot;abc&quot;,\n",
       "  &quot;detectRetina&quot;: false,\n",
       "  &quot;tms&quot;: false,\n",
       "  &quot;opacity&quot;: 1.0,\n",
       "}\n",
       "\n",
       "            );\n",
       "        \n",
       "    \n",
       "            tile_layer_322358fff3409d388e3ea9876153d759.addTo(map_55516e099e57b9144f039ad7d2083bf0);\n",
       "        \n",
       "    \n",
       "            var tile_layer_0a24360ead6fc4464e05fcbe105e2725 = L.tileLayer(\n",
       "                &quot;https://earthengine.googleapis.com/v1/projects/742985967975/maps/05827bc9dc6437948d742612352573aa-4ff54639f473fb2f9c4e6d430fa15d19/tiles/{z}/{x}/{y}&quot;,\n",
       "                {\n",
       "  &quot;minZoom&quot;: 0,\n",
       "  &quot;maxZoom&quot;: 24,\n",
       "  &quot;maxNativeZoom&quot;: 24,\n",
       "  &quot;noWrap&quot;: false,\n",
       "  &quot;attribution&quot;: &quot;Google Earth Engine&quot;,\n",
       "  &quot;subdomains&quot;: &quot;abc&quot;,\n",
       "  &quot;detectRetina&quot;: false,\n",
       "  &quot;tms&quot;: false,\n",
       "  &quot;opacity&quot;: 1.0,\n",
       "}\n",
       "\n",
       "            );\n",
       "        \n",
       "    \n",
       "            tile_layer_0a24360ead6fc4464e05fcbe105e2725.addTo(map_55516e099e57b9144f039ad7d2083bf0);\n",
       "        \n",
       "    \n",
       "            var tile_layer_b938bd498f131b28b6ee6cbac9a44670 = L.tileLayer(\n",
       "                &quot;https://earthengine.googleapis.com/v1/projects/742985967975/maps/41ad132f7c5af1def85f817d12cc1296-d7b3d47f995bd17c759f274e2103039b/tiles/{z}/{x}/{y}&quot;,\n",
       "                {\n",
       "  &quot;minZoom&quot;: 0,\n",
       "  &quot;maxZoom&quot;: 24,\n",
       "  &quot;maxNativeZoom&quot;: 24,\n",
       "  &quot;noWrap&quot;: false,\n",
       "  &quot;attribution&quot;: &quot;Google Earth Engine&quot;,\n",
       "  &quot;subdomains&quot;: &quot;abc&quot;,\n",
       "  &quot;detectRetina&quot;: false,\n",
       "  &quot;tms&quot;: false,\n",
       "  &quot;opacity&quot;: 1.0,\n",
       "}\n",
       "\n",
       "            );\n",
       "        \n",
       "    \n",
       "            tile_layer_b938bd498f131b28b6ee6cbac9a44670.addTo(map_55516e099e57b9144f039ad7d2083bf0);\n",
       "        \n",
       "    \n",
       "            var layer_control_45eb46d81763ec3242dfcb4a4357b801_layers = {\n",
       "                base_layers : {\n",
       "                    &quot;openstreetmap&quot; : tile_layer_2047de512383dff62e505c540d2ce1c9,\n",
       "                },\n",
       "                overlays :  {\n",
       "                    &quot;Sentinel-1 VV Median&quot; : tile_layer_72612c888fd6e5d7dee455bcc71f505d,\n",
       "                    &quot;LST&quot; : tile_layer_322358fff3409d388e3ea9876153d759,\n",
       "                    &quot;NDVI&quot; : tile_layer_0a24360ead6fc4464e05fcbe105e2725,\n",
       "                    &quot;Singapore Boundary&quot; : tile_layer_b938bd498f131b28b6ee6cbac9a44670,\n",
       "                },\n",
       "            };\n",
       "            let layer_control_45eb46d81763ec3242dfcb4a4357b801 = L.control.layers(\n",
       "                layer_control_45eb46d81763ec3242dfcb4a4357b801_layers.base_layers,\n",
       "                layer_control_45eb46d81763ec3242dfcb4a4357b801_layers.overlays,\n",
       "                {\n",
       "  &quot;position&quot;: &quot;topright&quot;,\n",
       "  &quot;collapsed&quot;: true,\n",
       "  &quot;autoZIndex&quot;: true,\n",
       "}\n",
       "            ).addTo(map_55516e099e57b9144f039ad7d2083bf0);\n",
       "\n",
       "        \n",
       "&lt;/script&gt;\n",
       "&lt;/html&gt;\" width=\"100%\" height=\"600\"style=\"border:none !important;\" \"allowfullscreen\" \"webkitallowfullscreen\" \"mozallowfullscreen\"></iframe>"
      ],
      "text/plain": [
       "<geemap.foliumap.Map at 0x7fde4370d070>"
      ]
     },
     "execution_count": 120,
     "metadata": {},
     "output_type": "execute_result"
    }
   ],
   "source": [
    "Map"
   ]
  },
  {
   "cell_type": "markdown",
   "id": "114b3fcb",
   "metadata": {},
   "source": [
    "Creating a multi channel input sensors\n",
    "Stacking"
   ]
  },
  {
   "cell_type": "markdown",
   "id": "3d56df6e",
   "metadata": {},
   "source": [
    "Stacking to multiband image"
   ]
  },
  {
   "cell_type": "code",
   "execution_count": null,
   "id": "1e4c78f5",
   "metadata": {},
   "outputs": [],
   "source": [
    "stacked = sentinel1.addBands(ndvi).addBands(modis_lst)"
   ]
  },
  {
   "cell_type": "markdown",
   "id": "dde18a6c",
   "metadata": {},
   "source": [
    "Export as GeoTIFF"
   ]
  },
  {
   "cell_type": "code",
   "execution_count": null,
   "id": "9be21efc",
   "metadata": {},
   "outputs": [],
   "source": [
    "import numpy as np"
   ]
  },
  {
   "cell_type": "code",
   "execution_count": null,
   "id": "515264b3",
   "metadata": {},
   "outputs": [],
   "source": [
    "region = singapore.geometry().bounds()"
   ]
  },
  {
   "cell_type": "code",
   "execution_count": null,
   "id": "3e4987d5",
   "metadata": {},
   "outputs": [],
   "source": [
    "image_np = geemap.ee_to_numpy(ee_object= stacked, region=region, scale=100)\n",
    "#since i cant export to drive, export as numpy array"
   ]
  },
  {
   "cell_type": "code",
   "execution_count": null,
   "id": "60a6527f",
   "metadata": {},
   "outputs": [],
   "source": [
    "print(\"Extracted image shape:\", image_np.shape)\n",
    "#ensure valid scale if not increase scale"
   ]
  },
  {
   "cell_type": "markdown",
   "id": "f2c3d365",
   "metadata": {},
   "source": [
    "Use of CNN in detecting spatial patterns such as urban heat clusters, flood prone zones\n",
    "-CNN capture filters/kernal that helps us understand how pixels relate to their neighbours\n"
   ]
  },
  {
   "cell_type": "markdown",
   "id": "a2c23b64",
   "metadata": {},
   "source": [
    "Saving as GeoTIFF"
   ]
  },
  {
   "cell_type": "code",
   "execution_count": null,
   "id": "d97d6f76",
   "metadata": {},
   "outputs": [],
   "source": [
    "image_np = np.nan_to_num(image_np) \n",
    "#remove NaNs"
   ]
  },
  {
   "cell_type": "code",
   "execution_count": null,
   "id": "a2b9cc7b",
   "metadata": {},
   "outputs": [],
   "source": [
    "height, width, bands = image_np.shape\n",
    "transform = from_origin(103.6, 1.47, 100, 100) \n",
    "#adjust long, lati to match sg"
   ]
  },
  {
   "cell_type": "code",
   "execution_count": null,
   "id": "81c412ed",
   "metadata": {},
   "outputs": [],
   "source": [
    "with rasterio.open(\n",
    "    'SG_stacked_input.tif', 'w',\n",
    "    driver='GTiff',\n",
    "    height=height,\n",
    "    width=width,\n",
    "    count=bands,\n",
    "    dtype=image_np.dtype,\n",
    "    transform=transform,\n",
    "    crs='EPSG:4326'\n",
    ") as dst:\n",
    "    for i in range(bands):\n",
    "        dst.write(image_np[:, :, i], i + 1)\n",
    "\n"
   ]
  },
  {
   "cell_type": "code",
   "execution_count": null,
   "id": "85a4b2ed",
   "metadata": {},
   "outputs": [],
   "source": [
    "with rasterio.open('SG_stacked_input.tif') as src:\n",
    "    image = src.read()  # Shape: (3, H, W)\n",
    "    image = np.transpose(image, (1, 2, 0))  # Convert to (H, W, 3)"
   ]
  },
  {
   "cell_type": "markdown",
   "id": "d8e6f451",
   "metadata": {},
   "source": [
    "Normalize Each Band [0,1]"
   ]
  },
  {
   "cell_type": "code",
   "execution_count": null,
   "id": "0391d1b8",
   "metadata": {},
   "outputs": [],
   "source": [
    "#Sen1 (vv dB range: -25 to 0)\n",
    "image[:, :, 0] = np.clip((image[:, :, 0] + 25) / 25, 0, 1)"
   ]
  },
  {
   "cell_type": "code",
   "execution_count": null,
   "id": "b09900ce",
   "metadata": {},
   "outputs": [],
   "source": [
    "# NDVI is usually between -1 and 1\n",
    "image[:, :, 1] = np.clip((image[:, :, 1] + 1) / 2, 0, 1)"
   ]
  },
  {
   "cell_type": "code",
   "execution_count": null,
   "id": "27b43136",
   "metadata": {},
   "outputs": [],
   "source": [
    "# LST (assumed 20°C to 40°C range)\n",
    "image[:, :, 2] = np.clip((image[:, :, 2] - 20) / 20, 0, 1)"
   ]
  },
  {
   "cell_type": "markdown",
   "id": "219a4e47",
   "metadata": {},
   "source": [
    "Slice image into 256x256 tiles which is 2.5km^2 at 10m resolution"
   ]
  },
  {
   "cell_type": "code",
   "execution_count": null,
   "id": "be7a9d09",
   "metadata": {},
   "outputs": [],
   "source": [
    "def tile_image(img, tile_size=256):\n",
    "    h, w, c = img.shape\n",
    "    tiles = []\n",
    "    for i in range(0, h - tile_size + 1, tile_size):\n",
    "        for j in range(0, w - tile_size + 1, tile_size):\n",
    "            tile = img[i:i+tile_size, j:j+tile_size, :]\n",
    "            tiles.append(tile)\n",
    "    return np.array(tiles)\n",
    "\n",
    "tiles = tile_image(image)\n",
    "print(\"Tiled input shape:\", tiles.shape)"
   ]
  },
  {
   "cell_type": "markdown",
   "id": "18cb04a9",
   "metadata": {},
   "source": [
    "Building model CNN Feature Extractor (spatial branch)"
   ]
  },
  {
   "cell_type": "code",
   "execution_count": null,
   "id": "34ad1df1",
   "metadata": {},
   "outputs": [],
   "source": [
    "input_shape = (256, 256, 3)"
   ]
  },
  {
   "cell_type": "code",
   "execution_count": null,
   "id": "cf5087c2",
   "metadata": {},
   "outputs": [],
   "source": [
    "cnn_input = tf.keras.Input(shape=input_shape, name='spatial_input')\n",
    "\n",
    "x = layers.Conv2D(32, (3, 3), activation='relu', padding='same')(cnn_input)\n",
    "x = layers.BatchNormalization()(x)\n",
    "x = layers.MaxPooling2D((2, 2))(x)\n",
    "\n",
    "x = layers.Conv2D(64, (3, 3), activation='relu', padding='same')(x)\n",
    "x = layers.BatchNormalization()(x)\n",
    "x = layers.MaxPooling2D((2, 2))(x)\n",
    "\n",
    "x = layers.Conv2D(128, (3, 3), activation='relu', padding='same')(x)\n",
    "x = layers.BatchNormalization()(x)\n",
    "x = layers.MaxPooling2D((2, 2))(x)\n",
    "\n",
    "x = layers.GlobalAveragePooling2D()(x)\n",
    "spatial_vector = layers.Dense(128, activation='relu', name='spatial_vector')(x)\n",
    "\n",
    "\n"
   ]
  },
  {
   "cell_type": "code",
   "execution_count": null,
   "id": "e5f14e3a",
   "metadata": {},
   "outputs": [],
   "source": [
    "cnn_model = tf.keras.Model(inputs=cnn_input, outputs=spatial_vector, name=\"CNN_Spatial_Model\")\n",
    "cnn_model.summary()"
   ]
  },
  {
   "cell_type": "markdown",
   "id": "fbbde85b",
   "metadata": {},
   "source": [
    "Temporal forecasting (Rainfall - rain/ wind/ humidity, global horizontal irradiance)\n",
    "rainfall daily- NEA\n",
    "humdity daily-NEA\n",
    "wind direction -NEA\n",
    "wind speed - NEA\n",
    "temperature? "
   ]
  },
  {
   "cell_type": "code",
   "execution_count": 247,
   "id": "fafca56c",
   "metadata": {},
   "outputs": [
    {
     "data": {
      "text/html": [
       "\n",
       "            <style>\n",
       "                .geemap-dark {\n",
       "                    --jp-widgets-color: white;\n",
       "                    --jp-widgets-label-color: white;\n",
       "                    --jp-ui-font-color1: white;\n",
       "                    --jp-layout-color2: #454545;\n",
       "                    background-color: #383838;\n",
       "                }\n",
       "\n",
       "                .geemap-dark .jupyter-button {\n",
       "                    --jp-layout-color3: #383838;\n",
       "                }\n",
       "\n",
       "                .geemap-colab {\n",
       "                    background-color: var(--colab-primary-surface-color, white);\n",
       "                }\n",
       "\n",
       "                .geemap-colab .jupyter-button {\n",
       "                    --jp-layout-color3: var(--colab-primary-surface-color, white);\n",
       "                }\n",
       "            </style>\n",
       "            "
      ],
      "text/plain": [
       "<IPython.core.display.HTML object>"
      ]
     },
     "metadata": {},
     "output_type": "display_data"
    }
   ],
   "source": [
    "def get_rainfall_series(hours=120):\n",
    "    base_url = \"https://api.data.gov.sg/v1/environment/rainfall\"\n",
    "    timestamps = pd.date_range(end=datetime.utcnow(), periods=hours, freq='1H')\n",
    "\n",
    "    all_data = []\n",
    "    \n",
    "    for ts in timestamps:\n",
    "        iso_time = ts.strftime('%Y-%m-%dT%H:%M:%S')\n",
    "        response = requests.get(base_url, params={'date_time': iso_time})\n",
    "        if response.ok:\n",
    "            data = response.json()\n",
    "            readings = data.get('items', [{}])[0].get('readings', [])\n",
    "            values = [r['value'] for r in readings if r.get('value') is not None]\n",
    "            avg_rain = sum(values) / len(values) if values else 0\n",
    "        else:\n",
    "            avg_rain = 0  # fallback for missing API response\n",
    "        all_data.append({'timestamp': ts, 'rainfall_mm': avg_rain})\n",
    "\n",
    "    df = pd.DataFrame(all_data)\n",
    "    return df\n"
   ]
  },
  {
   "cell_type": "code",
   "execution_count": 248,
   "id": "28731fe5",
   "metadata": {},
   "outputs": [
    {
     "data": {
      "text/html": [
       "\n",
       "            <style>\n",
       "                .geemap-dark {\n",
       "                    --jp-widgets-color: white;\n",
       "                    --jp-widgets-label-color: white;\n",
       "                    --jp-ui-font-color1: white;\n",
       "                    --jp-layout-color2: #454545;\n",
       "                    background-color: #383838;\n",
       "                }\n",
       "\n",
       "                .geemap-dark .jupyter-button {\n",
       "                    --jp-layout-color3: #383838;\n",
       "                }\n",
       "\n",
       "                .geemap-colab {\n",
       "                    background-color: var(--colab-primary-surface-color, white);\n",
       "                }\n",
       "\n",
       "                .geemap-colab .jupyter-button {\n",
       "                    --jp-layout-color3: var(--colab-primary-surface-color, white);\n",
       "                }\n",
       "            </style>\n",
       "            "
      ],
      "text/plain": [
       "<IPython.core.display.HTML object>"
      ]
     },
     "metadata": {},
     "output_type": "display_data"
    },
    {
     "data": {
      "text/html": [
       "<div>\n",
       "<style scoped>\n",
       "    .dataframe tbody tr th:only-of-type {\n",
       "        vertical-align: middle;\n",
       "    }\n",
       "\n",
       "    .dataframe tbody tr th {\n",
       "        vertical-align: top;\n",
       "    }\n",
       "\n",
       "    .dataframe thead th {\n",
       "        text-align: right;\n",
       "    }\n",
       "</style>\n",
       "<table border=\"1\" class=\"dataframe\">\n",
       "  <thead>\n",
       "    <tr style=\"text-align: right;\">\n",
       "      <th></th>\n",
       "      <th>timestamp</th>\n",
       "      <th>rainfall_mm</th>\n",
       "    </tr>\n",
       "  </thead>\n",
       "  <tbody>\n",
       "    <tr>\n",
       "      <th>0</th>\n",
       "      <td>2025-04-19 12:18:07.777032</td>\n",
       "      <td>0.018519</td>\n",
       "    </tr>\n",
       "    <tr>\n",
       "      <th>1</th>\n",
       "      <td>2025-04-19 13:18:07.777032</td>\n",
       "      <td>0.040741</td>\n",
       "    </tr>\n",
       "    <tr>\n",
       "      <th>2</th>\n",
       "      <td>2025-04-19 14:18:07.777032</td>\n",
       "      <td>0.427778</td>\n",
       "    </tr>\n",
       "    <tr>\n",
       "      <th>3</th>\n",
       "      <td>2025-04-19 15:18:07.777032</td>\n",
       "      <td>0.218519</td>\n",
       "    </tr>\n",
       "    <tr>\n",
       "      <th>4</th>\n",
       "      <td>2025-04-19 16:18:07.777032</td>\n",
       "      <td>0.000000</td>\n",
       "    </tr>\n",
       "  </tbody>\n",
       "</table>\n",
       "</div>"
      ],
      "text/plain": [
       "                   timestamp  rainfall_mm\n",
       "0 2025-04-19 12:18:07.777032     0.018519\n",
       "1 2025-04-19 13:18:07.777032     0.040741\n",
       "2 2025-04-19 14:18:07.777032     0.427778\n",
       "3 2025-04-19 15:18:07.777032     0.218519\n",
       "4 2025-04-19 16:18:07.777032     0.000000"
      ]
     },
     "execution_count": 248,
     "metadata": {},
     "output_type": "execute_result"
    }
   ],
   "source": [
    "rainfall_df = get_rainfall_series()\n",
    "rainfall_df.head()"
   ]
  },
  {
   "cell_type": "code",
   "execution_count": 249,
   "id": "05747694",
   "metadata": {},
   "outputs": [
    {
     "data": {
      "text/html": [
       "\n",
       "            <style>\n",
       "                .geemap-dark {\n",
       "                    --jp-widgets-color: white;\n",
       "                    --jp-widgets-label-color: white;\n",
       "                    --jp-ui-font-color1: white;\n",
       "                    --jp-layout-color2: #454545;\n",
       "                    background-color: #383838;\n",
       "                }\n",
       "\n",
       "                .geemap-dark .jupyter-button {\n",
       "                    --jp-layout-color3: #383838;\n",
       "                }\n",
       "\n",
       "                .geemap-colab {\n",
       "                    background-color: var(--colab-primary-surface-color, white);\n",
       "                }\n",
       "\n",
       "                .geemap-colab .jupyter-button {\n",
       "                    --jp-layout-color3: var(--colab-primary-surface-color, white);\n",
       "                }\n",
       "            </style>\n",
       "            "
      ],
      "text/plain": [
       "<IPython.core.display.HTML object>"
      ]
     },
     "metadata": {},
     "output_type": "display_data"
    }
   ],
   "source": [
    "def get_humidity_series(hours=120):\n",
    "    base_url = \"https://api.data.gov.sg/v1/environment/relative-humidity\"\n",
    "    timestamps = pd.date_range(end=datetime.utcnow(), periods=hours, freq='1H')\n",
    "\n",
    "    all_data = []\n",
    "    \n",
    "    for ts in timestamps:\n",
    "        iso_time = ts.strftime('%Y-%m-%dT%H:%M:%S')\n",
    "        response = requests.get(base_url, params={'date_time': iso_time})\n",
    "        if response.ok:\n",
    "            data = response.json()\n",
    "            readings = data.get('items', [{}])[0].get('readings', [])\n",
    "            values = [r['value'] for r in readings if r.get('value') is not None]\n",
    "            avg_humidity = sum(values) / len(values) if values else 0\n",
    "        else:\n",
    "            avg_humidity = 0  # fallback for missing API response\n",
    "        all_data.append({'timestamp': ts, 'humidity_percent': avg_humidity})\n",
    "\n",
    "    df = pd.DataFrame(all_data)\n",
    "    return df"
   ]
  },
  {
   "cell_type": "code",
   "execution_count": 250,
   "id": "5053fe8a",
   "metadata": {},
   "outputs": [
    {
     "data": {
      "text/html": [
       "\n",
       "            <style>\n",
       "                .geemap-dark {\n",
       "                    --jp-widgets-color: white;\n",
       "                    --jp-widgets-label-color: white;\n",
       "                    --jp-ui-font-color1: white;\n",
       "                    --jp-layout-color2: #454545;\n",
       "                    background-color: #383838;\n",
       "                }\n",
       "\n",
       "                .geemap-dark .jupyter-button {\n",
       "                    --jp-layout-color3: #383838;\n",
       "                }\n",
       "\n",
       "                .geemap-colab {\n",
       "                    background-color: var(--colab-primary-surface-color, white);\n",
       "                }\n",
       "\n",
       "                .geemap-colab .jupyter-button {\n",
       "                    --jp-layout-color3: var(--colab-primary-surface-color, white);\n",
       "                }\n",
       "            </style>\n",
       "            "
      ],
      "text/plain": [
       "<IPython.core.display.HTML object>"
      ]
     },
     "metadata": {},
     "output_type": "display_data"
    },
    {
     "data": {
      "text/html": [
       "<div>\n",
       "<style scoped>\n",
       "    .dataframe tbody tr th:only-of-type {\n",
       "        vertical-align: middle;\n",
       "    }\n",
       "\n",
       "    .dataframe tbody tr th {\n",
       "        vertical-align: top;\n",
       "    }\n",
       "\n",
       "    .dataframe thead th {\n",
       "        text-align: right;\n",
       "    }\n",
       "</style>\n",
       "<table border=\"1\" class=\"dataframe\">\n",
       "  <thead>\n",
       "    <tr style=\"text-align: right;\">\n",
       "      <th></th>\n",
       "      <th>timestamp</th>\n",
       "      <th>humidity_percent</th>\n",
       "    </tr>\n",
       "  </thead>\n",
       "  <tbody>\n",
       "    <tr>\n",
       "      <th>0</th>\n",
       "      <td>2025-04-19 12:18:18.057243</td>\n",
       "      <td>70.233333</td>\n",
       "    </tr>\n",
       "    <tr>\n",
       "      <th>1</th>\n",
       "      <td>2025-04-19 13:18:18.057243</td>\n",
       "      <td>75.455556</td>\n",
       "    </tr>\n",
       "    <tr>\n",
       "      <th>2</th>\n",
       "      <td>2025-04-19 14:18:18.057243</td>\n",
       "      <td>84.412500</td>\n",
       "    </tr>\n",
       "    <tr>\n",
       "      <th>3</th>\n",
       "      <td>2025-04-19 15:18:18.057243</td>\n",
       "      <td>86.555556</td>\n",
       "    </tr>\n",
       "    <tr>\n",
       "      <th>4</th>\n",
       "      <td>2025-04-19 16:18:18.057243</td>\n",
       "      <td>84.677778</td>\n",
       "    </tr>\n",
       "  </tbody>\n",
       "</table>\n",
       "</div>"
      ],
      "text/plain": [
       "                   timestamp  humidity_percent\n",
       "0 2025-04-19 12:18:18.057243         70.233333\n",
       "1 2025-04-19 13:18:18.057243         75.455556\n",
       "2 2025-04-19 14:18:18.057243         84.412500\n",
       "3 2025-04-19 15:18:18.057243         86.555556\n",
       "4 2025-04-19 16:18:18.057243         84.677778"
      ]
     },
     "execution_count": 250,
     "metadata": {},
     "output_type": "execute_result"
    }
   ],
   "source": [
    "humidity_df = get_humidity_series()\n",
    "humidity_df.head()\n",
    "\n"
   ]
  },
  {
   "cell_type": "code",
   "execution_count": 251,
   "id": "80f71a6a",
   "metadata": {},
   "outputs": [
    {
     "data": {
      "text/html": [
       "\n",
       "            <style>\n",
       "                .geemap-dark {\n",
       "                    --jp-widgets-color: white;\n",
       "                    --jp-widgets-label-color: white;\n",
       "                    --jp-ui-font-color1: white;\n",
       "                    --jp-layout-color2: #454545;\n",
       "                    background-color: #383838;\n",
       "                }\n",
       "\n",
       "                .geemap-dark .jupyter-button {\n",
       "                    --jp-layout-color3: #383838;\n",
       "                }\n",
       "\n",
       "                .geemap-colab {\n",
       "                    background-color: var(--colab-primary-surface-color, white);\n",
       "                }\n",
       "\n",
       "                .geemap-colab .jupyter-button {\n",
       "                    --jp-layout-color3: var(--colab-primary-surface-color, white);\n",
       "                }\n",
       "            </style>\n",
       "            "
      ],
      "text/plain": [
       "<IPython.core.display.HTML object>"
      ]
     },
     "metadata": {},
     "output_type": "display_data"
    }
   ],
   "source": [
    "def get_wind_speed_series(hours=120):\n",
    "    base_url = \"https://api.data.gov.sg/v1/environment/wind-speed\"\n",
    "    timestamps = pd.date_range(end=datetime.utcnow(), periods=hours, freq='1H')\n",
    "\n",
    "    all_data = []\n",
    "\n",
    "    for ts in timestamps:\n",
    "        iso_time = ts.strftime('%Y-%m-%dT%H:%M:%S')\n",
    "        response = requests.get(base_url, params={'date_time': iso_time})\n",
    "        if response.ok:\n",
    "            data = response.json()\n",
    "            readings = data.get('items', [{}])[0].get('readings', [])\n",
    "            values = [r['value'] for r in readings if r.get('value') is not None]\n",
    "            avg_wind = sum(values) / len(values) if values else 0\n",
    "        else:\n",
    "            avg_wind = 0  # fallback for missing API response\n",
    "        all_data.append({'timestamp': ts, 'wind_speed_mps': avg_wind})\n",
    "\n",
    "    df = pd.DataFrame(all_data)\n",
    "    return df\n"
   ]
  },
  {
   "cell_type": "code",
   "execution_count": 252,
   "id": "7de9c7a3",
   "metadata": {},
   "outputs": [
    {
     "data": {
      "text/html": [
       "\n",
       "            <style>\n",
       "                .geemap-dark {\n",
       "                    --jp-widgets-color: white;\n",
       "                    --jp-widgets-label-color: white;\n",
       "                    --jp-ui-font-color1: white;\n",
       "                    --jp-layout-color2: #454545;\n",
       "                    background-color: #383838;\n",
       "                }\n",
       "\n",
       "                .geemap-dark .jupyter-button {\n",
       "                    --jp-layout-color3: #383838;\n",
       "                }\n",
       "\n",
       "                .geemap-colab {\n",
       "                    background-color: var(--colab-primary-surface-color, white);\n",
       "                }\n",
       "\n",
       "                .geemap-colab .jupyter-button {\n",
       "                    --jp-layout-color3: var(--colab-primary-surface-color, white);\n",
       "                }\n",
       "            </style>\n",
       "            "
      ],
      "text/plain": [
       "<IPython.core.display.HTML object>"
      ]
     },
     "metadata": {},
     "output_type": "display_data"
    },
    {
     "data": {
      "text/html": [
       "<div>\n",
       "<style scoped>\n",
       "    .dataframe tbody tr th:only-of-type {\n",
       "        vertical-align: middle;\n",
       "    }\n",
       "\n",
       "    .dataframe tbody tr th {\n",
       "        vertical-align: top;\n",
       "    }\n",
       "\n",
       "    .dataframe thead th {\n",
       "        text-align: right;\n",
       "    }\n",
       "</style>\n",
       "<table border=\"1\" class=\"dataframe\">\n",
       "  <thead>\n",
       "    <tr style=\"text-align: right;\">\n",
       "      <th></th>\n",
       "      <th>timestamp</th>\n",
       "      <th>wind_speed_mps</th>\n",
       "    </tr>\n",
       "  </thead>\n",
       "  <tbody>\n",
       "    <tr>\n",
       "      <th>0</th>\n",
       "      <td>2025-04-19 12:18:26.820308</td>\n",
       "      <td>4.000000</td>\n",
       "    </tr>\n",
       "    <tr>\n",
       "      <th>1</th>\n",
       "      <td>2025-04-19 13:18:26.820308</td>\n",
       "      <td>4.611111</td>\n",
       "    </tr>\n",
       "    <tr>\n",
       "      <th>2</th>\n",
       "      <td>2025-04-19 14:18:26.820308</td>\n",
       "      <td>3.055556</td>\n",
       "    </tr>\n",
       "    <tr>\n",
       "      <th>3</th>\n",
       "      <td>2025-04-19 15:18:26.820308</td>\n",
       "      <td>2.577778</td>\n",
       "    </tr>\n",
       "    <tr>\n",
       "      <th>4</th>\n",
       "      <td>2025-04-19 16:18:26.820308</td>\n",
       "      <td>2.444444</td>\n",
       "    </tr>\n",
       "  </tbody>\n",
       "</table>\n",
       "</div>"
      ],
      "text/plain": [
       "                   timestamp  wind_speed_mps\n",
       "0 2025-04-19 12:18:26.820308        4.000000\n",
       "1 2025-04-19 13:18:26.820308        4.611111\n",
       "2 2025-04-19 14:18:26.820308        3.055556\n",
       "3 2025-04-19 15:18:26.820308        2.577778\n",
       "4 2025-04-19 16:18:26.820308        2.444444"
      ]
     },
     "execution_count": 252,
     "metadata": {},
     "output_type": "execute_result"
    }
   ],
   "source": [
    "wind_df = get_wind_speed_series()\n",
    "wind_df.head()"
   ]
  },
  {
   "cell_type": "code",
   "execution_count": 253,
   "id": "1939bfd1",
   "metadata": {},
   "outputs": [
    {
     "data": {
      "text/html": [
       "\n",
       "            <style>\n",
       "                .geemap-dark {\n",
       "                    --jp-widgets-color: white;\n",
       "                    --jp-widgets-label-color: white;\n",
       "                    --jp-ui-font-color1: white;\n",
       "                    --jp-layout-color2: #454545;\n",
       "                    background-color: #383838;\n",
       "                }\n",
       "\n",
       "                .geemap-dark .jupyter-button {\n",
       "                    --jp-layout-color3: #383838;\n",
       "                }\n",
       "\n",
       "                .geemap-colab {\n",
       "                    background-color: var(--colab-primary-surface-color, white);\n",
       "                }\n",
       "\n",
       "                .geemap-colab .jupyter-button {\n",
       "                    --jp-layout-color3: var(--colab-primary-surface-color, white);\n",
       "                }\n",
       "            </style>\n",
       "            "
      ],
      "text/plain": [
       "<IPython.core.display.HTML object>"
      ]
     },
     "metadata": {},
     "output_type": "display_data"
    }
   ],
   "source": [
    "def get_temperature_series(hours=120):\n",
    "    base_url = \"https://api.data.gov.sg/v1/environment/air-temperature\"\n",
    "    timestamps = pd.date_range(end=datetime.utcnow(), periods=hours, freq='1H')\n",
    "\n",
    "    all_data = []\n",
    "    \n",
    "    for ts in timestamps:\n",
    "        iso_time = ts.strftime('%Y-%m-%dT%H:%M:%S')\n",
    "        response = requests.get(base_url, params={'date_time': iso_time})\n",
    "        if response.ok:\n",
    "            data = response.json()\n",
    "            readings = data.get('items', [{}])[0].get('readings', [])\n",
    "            values = [r['value'] for r in readings if r.get('value') is not None]\n",
    "            avg_temp = sum(values) / len(values) if values else 0\n",
    "        else:\n",
    "            avg_temp = 0  # fallback\n",
    "        all_data.append({'timestamp': ts, 'temperature_celsius': avg_temp})\n",
    "    \n",
    "    df = pd.DataFrame(all_data)\n",
    "    return df\n",
    "    "
   ]
  },
  {
   "cell_type": "code",
   "execution_count": 254,
   "id": "61b8b41f",
   "metadata": {},
   "outputs": [
    {
     "data": {
      "text/html": [
       "\n",
       "            <style>\n",
       "                .geemap-dark {\n",
       "                    --jp-widgets-color: white;\n",
       "                    --jp-widgets-label-color: white;\n",
       "                    --jp-ui-font-color1: white;\n",
       "                    --jp-layout-color2: #454545;\n",
       "                    background-color: #383838;\n",
       "                }\n",
       "\n",
       "                .geemap-dark .jupyter-button {\n",
       "                    --jp-layout-color3: #383838;\n",
       "                }\n",
       "\n",
       "                .geemap-colab {\n",
       "                    background-color: var(--colab-primary-surface-color, white);\n",
       "                }\n",
       "\n",
       "                .geemap-colab .jupyter-button {\n",
       "                    --jp-layout-color3: var(--colab-primary-surface-color, white);\n",
       "                }\n",
       "            </style>\n",
       "            "
      ],
      "text/plain": [
       "<IPython.core.display.HTML object>"
      ]
     },
     "metadata": {},
     "output_type": "display_data"
    },
    {
     "data": {
      "text/html": [
       "<div>\n",
       "<style scoped>\n",
       "    .dataframe tbody tr th:only-of-type {\n",
       "        vertical-align: middle;\n",
       "    }\n",
       "\n",
       "    .dataframe tbody tr th {\n",
       "        vertical-align: top;\n",
       "    }\n",
       "\n",
       "    .dataframe thead th {\n",
       "        text-align: right;\n",
       "    }\n",
       "</style>\n",
       "<table border=\"1\" class=\"dataframe\">\n",
       "  <thead>\n",
       "    <tr style=\"text-align: right;\">\n",
       "      <th></th>\n",
       "      <th>timestamp</th>\n",
       "      <th>temperature_celsius</th>\n",
       "    </tr>\n",
       "  </thead>\n",
       "  <tbody>\n",
       "    <tr>\n",
       "      <th>0</th>\n",
       "      <td>2025-04-19 12:18:35.626713</td>\n",
       "      <td>31.277778</td>\n",
       "    </tr>\n",
       "    <tr>\n",
       "      <th>1</th>\n",
       "      <td>2025-04-19 13:18:35.626713</td>\n",
       "      <td>30.622222</td>\n",
       "    </tr>\n",
       "    <tr>\n",
       "      <th>2</th>\n",
       "      <td>2025-04-19 14:18:35.626713</td>\n",
       "      <td>26.966667</td>\n",
       "    </tr>\n",
       "    <tr>\n",
       "      <th>3</th>\n",
       "      <td>2025-04-19 15:18:35.626713</td>\n",
       "      <td>27.155556</td>\n",
       "    </tr>\n",
       "    <tr>\n",
       "      <th>4</th>\n",
       "      <td>2025-04-19 16:18:35.626713</td>\n",
       "      <td>28.122222</td>\n",
       "    </tr>\n",
       "  </tbody>\n",
       "</table>\n",
       "</div>"
      ],
      "text/plain": [
       "                   timestamp  temperature_celsius\n",
       "0 2025-04-19 12:18:35.626713            31.277778\n",
       "1 2025-04-19 13:18:35.626713            30.622222\n",
       "2 2025-04-19 14:18:35.626713            26.966667\n",
       "3 2025-04-19 15:18:35.626713            27.155556\n",
       "4 2025-04-19 16:18:35.626713            28.122222"
      ]
     },
     "execution_count": 254,
     "metadata": {},
     "output_type": "execute_result"
    }
   ],
   "source": [
    "temp_df = get_temperature_series()\n",
    "temp_df.head()"
   ]
  },
  {
   "cell_type": "markdown",
   "id": "eda61e34",
   "metadata": {},
   "source": [
    "Preparing for LSTM model\n",
    "(120,4)"
   ]
  },
  {
   "cell_type": "markdown",
   "id": "7bfb5567",
   "metadata": {},
   "source": [
    "Standardize all timestamps since jn it returns (0,5) and after we realised some timestamps failed to fetch......\n",
    "so the issue is somewhere it runs 1 min faster/slower thus unable to merge......"
   ]
  },
  {
   "cell_type": "code",
   "execution_count": 260,
   "id": "fbeb3e28",
   "metadata": {},
   "outputs": [
    {
     "data": {
      "text/html": [
       "\n",
       "            <style>\n",
       "                .geemap-dark {\n",
       "                    --jp-widgets-color: white;\n",
       "                    --jp-widgets-label-color: white;\n",
       "                    --jp-ui-font-color1: white;\n",
       "                    --jp-layout-color2: #454545;\n",
       "                    background-color: #383838;\n",
       "                }\n",
       "\n",
       "                .geemap-dark .jupyter-button {\n",
       "                    --jp-layout-color3: #383838;\n",
       "                }\n",
       "\n",
       "                .geemap-colab {\n",
       "                    background-color: var(--colab-primary-surface-color, white);\n",
       "                }\n",
       "\n",
       "                .geemap-colab .jupyter-button {\n",
       "                    --jp-layout-color3: var(--colab-primary-surface-color, white);\n",
       "                }\n",
       "            </style>\n",
       "            "
      ],
      "text/plain": [
       "<IPython.core.display.HTML object>"
      ]
     },
     "metadata": {},
     "output_type": "display_data"
    },
    {
     "name": "stdout",
     "output_type": "stream",
     "text": [
      "Rainfall rows: 120\n",
      "Humidity rows: 120\n",
      "Wind rows: 120\n",
      "Temp rows: 120\n"
     ]
    }
   ],
   "source": [
    "for df in [rainfall_df, humidity_df, wind_df, temp_df]:\n",
    "    df['timestamp'] = pd.to_datetime(df['timestamp']).dt.floor('H')\n",
    "    \n",
    "print(\"Rainfall rows:\", len(rainfall_df))\n",
    "print(\"Humidity rows:\", len(humidity_df))\n",
    "print(\"Wind rows:\", len(wind_df))\n",
    "print(\"Temp rows:\", len(temp_df))   "
   ]
  },
  {
   "cell_type": "code",
   "execution_count": 261,
   "id": "9dca113f",
   "metadata": {},
   "outputs": [
    {
     "data": {
      "text/html": [
       "\n",
       "            <style>\n",
       "                .geemap-dark {\n",
       "                    --jp-widgets-color: white;\n",
       "                    --jp-widgets-label-color: white;\n",
       "                    --jp-ui-font-color1: white;\n",
       "                    --jp-layout-color2: #454545;\n",
       "                    background-color: #383838;\n",
       "                }\n",
       "\n",
       "                .geemap-dark .jupyter-button {\n",
       "                    --jp-layout-color3: #383838;\n",
       "                }\n",
       "\n",
       "                .geemap-colab {\n",
       "                    background-color: var(--colab-primary-surface-color, white);\n",
       "                }\n",
       "\n",
       "                .geemap-colab .jupyter-button {\n",
       "                    --jp-layout-color3: var(--colab-primary-surface-color, white);\n",
       "                }\n",
       "            </style>\n",
       "            "
      ],
      "text/plain": [
       "<IPython.core.display.HTML object>"
      ]
     },
     "metadata": {},
     "output_type": "display_data"
    }
   ],
   "source": [
    "df_merged = rainfall_df.merge(humidity_df, on='timestamp') \\\n",
    "                       .merge(wind_df, on='timestamp') \\\n",
    "                       .merge(temp_df, on='timestamp')"
   ]
  },
  {
   "cell_type": "markdown",
   "id": "74d1bc4b",
   "metadata": {},
   "source": [
    "print(\"Any missing values?\", df_merged.isnull().values.any())\n",
    "\n",
    "missing_rows = df_merged[df_merged.isnull().any(axis=1)]\n",
    "print(f\"Rows with missing values: {len(missing_rows)}\")\n",
    "print(missing_rows[['timestamp'] + [col for col in df_merged.columns if 'value' in col or 'percent' in col]])\n",
    "df_merged = df_merged.fillna(method='ffill').fillna(method='bfill')\n"
   ]
  },
  {
   "cell_type": "code",
   "execution_count": 262,
   "id": "40f8cca8",
   "metadata": {},
   "outputs": [
    {
     "data": {
      "text/html": [
       "\n",
       "            <style>\n",
       "                .geemap-dark {\n",
       "                    --jp-widgets-color: white;\n",
       "                    --jp-widgets-label-color: white;\n",
       "                    --jp-ui-font-color1: white;\n",
       "                    --jp-layout-color2: #454545;\n",
       "                    background-color: #383838;\n",
       "                }\n",
       "\n",
       "                .geemap-dark .jupyter-button {\n",
       "                    --jp-layout-color3: #383838;\n",
       "                }\n",
       "\n",
       "                .geemap-colab {\n",
       "                    background-color: var(--colab-primary-surface-color, white);\n",
       "                }\n",
       "\n",
       "                .geemap-colab .jupyter-button {\n",
       "                    --jp-layout-color3: var(--colab-primary-surface-color, white);\n",
       "                }\n",
       "            </style>\n",
       "            "
      ],
      "text/plain": [
       "<IPython.core.display.HTML object>"
      ]
     },
     "metadata": {},
     "output_type": "display_data"
    },
    {
     "data": {
      "text/plain": [
       "(120, 5)"
      ]
     },
     "execution_count": 262,
     "metadata": {},
     "output_type": "execute_result"
    }
   ],
   "source": [
    "df_merged.shape"
   ]
  },
  {
   "cell_type": "code",
   "execution_count": 263,
   "id": "d8ffce66",
   "metadata": {},
   "outputs": [
    {
     "data": {
      "text/html": [
       "\n",
       "            <style>\n",
       "                .geemap-dark {\n",
       "                    --jp-widgets-color: white;\n",
       "                    --jp-widgets-label-color: white;\n",
       "                    --jp-ui-font-color1: white;\n",
       "                    --jp-layout-color2: #454545;\n",
       "                    background-color: #383838;\n",
       "                }\n",
       "\n",
       "                .geemap-dark .jupyter-button {\n",
       "                    --jp-layout-color3: #383838;\n",
       "                }\n",
       "\n",
       "                .geemap-colab {\n",
       "                    background-color: var(--colab-primary-surface-color, white);\n",
       "                }\n",
       "\n",
       "                .geemap-colab .jupyter-button {\n",
       "                    --jp-layout-color3: var(--colab-primary-surface-color, white);\n",
       "                }\n",
       "            </style>\n",
       "            "
      ],
      "text/plain": [
       "<IPython.core.display.HTML object>"
      ]
     },
     "metadata": {},
     "output_type": "display_data"
    }
   ],
   "source": [
    "df_merged['rainfall_norm'] = df_merged['rainfall_mm'] / 100       # assuming 100 mm/hr as max\n",
    "df_merged['humidity_norm'] = df_merged['humidity_percent'] / 100\n",
    "df_merged['wind_norm']     = df_merged['wind_speed_mps'] / 15     # assume 15 m/s max wind\n",
    "df_merged['temp_norm']     = (df_merged['temperature_celsius'] - 20) / 15  # assuming 20–35°C range"
   ]
  },
  {
   "cell_type": "code",
   "execution_count": 264,
   "id": "99fc11c6",
   "metadata": {},
   "outputs": [
    {
     "data": {
      "text/html": [
       "\n",
       "            <style>\n",
       "                .geemap-dark {\n",
       "                    --jp-widgets-color: white;\n",
       "                    --jp-widgets-label-color: white;\n",
       "                    --jp-ui-font-color1: white;\n",
       "                    --jp-layout-color2: #454545;\n",
       "                    background-color: #383838;\n",
       "                }\n",
       "\n",
       "                .geemap-dark .jupyter-button {\n",
       "                    --jp-layout-color3: #383838;\n",
       "                }\n",
       "\n",
       "                .geemap-colab {\n",
       "                    background-color: var(--colab-primary-surface-color, white);\n",
       "                }\n",
       "\n",
       "                .geemap-colab .jupyter-button {\n",
       "                    --jp-layout-color3: var(--colab-primary-surface-color, white);\n",
       "                }\n",
       "            </style>\n",
       "            "
      ],
      "text/plain": [
       "<IPython.core.display.HTML object>"
      ]
     },
     "metadata": {},
     "output_type": "display_data"
    },
    {
     "data": {
      "text/plain": [
       "(120, 4)"
      ]
     },
     "execution_count": 264,
     "metadata": {},
     "output_type": "execute_result"
    }
   ],
   "source": [
    "X_temporal = df_merged[['rainfall_norm', 'humidity_norm', 'wind_norm', 'temp_norm']].values\n",
    "X_temporal.shape"
   ]
  },
  {
   "cell_type": "code",
   "execution_count": 265,
   "id": "9b520d63",
   "metadata": {},
   "outputs": [
    {
     "data": {
      "text/html": [
       "\n",
       "            <style>\n",
       "                .geemap-dark {\n",
       "                    --jp-widgets-color: white;\n",
       "                    --jp-widgets-label-color: white;\n",
       "                    --jp-ui-font-color1: white;\n",
       "                    --jp-layout-color2: #454545;\n",
       "                    background-color: #383838;\n",
       "                }\n",
       "\n",
       "                .geemap-dark .jupyter-button {\n",
       "                    --jp-layout-color3: #383838;\n",
       "                }\n",
       "\n",
       "                .geemap-colab {\n",
       "                    background-color: var(--colab-primary-surface-color, white);\n",
       "                }\n",
       "\n",
       "                .geemap-colab .jupyter-button {\n",
       "                    --jp-layout-color3: var(--colab-primary-surface-color, white);\n",
       "                }\n",
       "            </style>\n",
       "            "
      ],
      "text/plain": [
       "<IPython.core.display.HTML object>"
      ]
     },
     "metadata": {},
     "output_type": "display_data"
    }
   ],
   "source": [
    "np.save('X_temporal_120h.npy', X_temporal)"
   ]
  },
  {
   "cell_type": "markdown",
   "id": "4aec699e",
   "metadata": {},
   "source": [
    "Defining the LSTM Temporal Encoder \n",
    "time series of weather data over 120h\n",
    "learns a compressed vector (embedding) that captures how weather is evolving over time\n",
    "*memory unit\n"
   ]
  },
  {
   "cell_type": "markdown",
   "id": "7cac09da",
   "metadata": {},
   "source": [
    "Long term short memory - Recurrent Neural network that processes one timestep (120h) at a time, while maintaining internal memory that gets updated as it gets new data.\n",
    "\n",
    "At each hours -\n",
    "reads 4 weather feature for that hour,\n",
    "updates hidden state memory to reflect recent rainfall accum trends in temp/humidity/ wind accerleration or drops\n",
    "\n",
    "128 dimensional context vector - summary of recent weather history to capture pattern"
   ]
  },
  {
   "cell_type": "code",
   "execution_count": 268,
   "id": "2756c41e",
   "metadata": {},
   "outputs": [
    {
     "data": {
      "text/html": [
       "\n",
       "            <style>\n",
       "                .geemap-dark {\n",
       "                    --jp-widgets-color: white;\n",
       "                    --jp-widgets-label-color: white;\n",
       "                    --jp-ui-font-color1: white;\n",
       "                    --jp-layout-color2: #454545;\n",
       "                    background-color: #383838;\n",
       "                }\n",
       "\n",
       "                .geemap-dark .jupyter-button {\n",
       "                    --jp-layout-color3: #383838;\n",
       "                }\n",
       "\n",
       "                .geemap-colab {\n",
       "                    background-color: var(--colab-primary-surface-color, white);\n",
       "                }\n",
       "\n",
       "                .geemap-colab .jupyter-button {\n",
       "                    --jp-layout-color3: var(--colab-primary-surface-color, white);\n",
       "                }\n",
       "            </style>\n",
       "            "
      ],
      "text/plain": [
       "<IPython.core.display.HTML object>"
      ]
     },
     "metadata": {},
     "output_type": "display_data"
    }
   ],
   "source": [
    "temporal_input = Input(shape=(120, 4), name='temporal_input')"
   ]
  },
  {
   "cell_type": "code",
   "execution_count": 269,
   "id": "cac2adc0",
   "metadata": {},
   "outputs": [
    {
     "data": {
      "text/html": [
       "\n",
       "            <style>\n",
       "                .geemap-dark {\n",
       "                    --jp-widgets-color: white;\n",
       "                    --jp-widgets-label-color: white;\n",
       "                    --jp-ui-font-color1: white;\n",
       "                    --jp-layout-color2: #454545;\n",
       "                    background-color: #383838;\n",
       "                }\n",
       "\n",
       "                .geemap-dark .jupyter-button {\n",
       "                    --jp-layout-color3: #383838;\n",
       "                }\n",
       "\n",
       "                .geemap-colab {\n",
       "                    background-color: var(--colab-primary-surface-color, white);\n",
       "                }\n",
       "\n",
       "                .geemap-colab .jupyter-button {\n",
       "                    --jp-layout-color3: var(--colab-primary-surface-color, white);\n",
       "                }\n",
       "            </style>\n",
       "            "
      ],
      "text/plain": [
       "<IPython.core.display.HTML object>"
      ]
     },
     "metadata": {},
     "output_type": "display_data"
    }
   ],
   "source": [
    "# LSTM block\n",
    "x = LSTM(128, return_sequences=False)(temporal_input)\n",
    "x = Dropout(0.3)(x)\n",
    "temporal_vector = Dense(128, activation='relu', name='temporal_vector')(x)\n"
   ]
  },
  {
   "cell_type": "code",
   "execution_count": 270,
   "id": "42129bd0",
   "metadata": {},
   "outputs": [
    {
     "data": {
      "text/html": [
       "\n",
       "            <style>\n",
       "                .geemap-dark {\n",
       "                    --jp-widgets-color: white;\n",
       "                    --jp-widgets-label-color: white;\n",
       "                    --jp-ui-font-color1: white;\n",
       "                    --jp-layout-color2: #454545;\n",
       "                    background-color: #383838;\n",
       "                }\n",
       "\n",
       "                .geemap-dark .jupyter-button {\n",
       "                    --jp-layout-color3: #383838;\n",
       "                }\n",
       "\n",
       "                .geemap-colab {\n",
       "                    background-color: var(--colab-primary-surface-color, white);\n",
       "                }\n",
       "\n",
       "                .geemap-colab .jupyter-button {\n",
       "                    --jp-layout-color3: var(--colab-primary-surface-color, white);\n",
       "                }\n",
       "            </style>\n",
       "            "
      ],
      "text/plain": [
       "<IPython.core.display.HTML object>"
      ]
     },
     "metadata": {},
     "output_type": "display_data"
    },
    {
     "name": "stdout",
     "output_type": "stream",
     "text": [
      "Model: \"LSTM_Encoder\"\n",
      "_________________________________________________________________\n",
      " Layer (type)                Output Shape              Param #   \n",
      "=================================================================\n",
      " temporal_input (InputLayer  [(None, 120, 4)]          0         \n",
      " )                                                               \n",
      "                                                                 \n",
      " lstm_1 (LSTM)               (None, 128)               68096     \n",
      "                                                                 \n",
      " dropout (Dropout)           (None, 128)               0         \n",
      "                                                                 \n",
      " temporal_vector (Dense)     (None, 128)               16512     \n",
      "                                                                 \n",
      "=================================================================\n",
      "Total params: 84608 (330.50 KB)\n",
      "Trainable params: 84608 (330.50 KB)\n",
      "Non-trainable params: 0 (0.00 Byte)\n",
      "_________________________________________________________________\n"
     ]
    }
   ],
   "source": [
    "lstm_encoder = Model(inputs=temporal_input, outputs=temporal_vector, name='LSTM_Encoder')\n",
    "lstm_encoder.summary()"
   ]
  },
  {
   "cell_type": "markdown",
   "id": "4b67a737",
   "metadata": {},
   "source": [
    "Fusion with CNN spatial encoder with LSTM encoder\n"
   ]
  },
  {
   "cell_type": "markdown",
   "id": "25b381a9",
   "metadata": {},
   "source": []
  },
  {
   "cell_type": "code",
   "execution_count": null,
   "id": "05fefbdc",
   "metadata": {},
   "outputs": [],
   "source": []
  }
 ],
 "metadata": {
  "kernelspec": {
   "display_name": "Python 3 (ipykernel)",
   "language": "python",
   "name": "python3"
  },
  "language_info": {
   "codemirror_mode": {
    "name": "ipython",
    "version": 3
   },
   "file_extension": ".py",
   "mimetype": "text/x-python",
   "name": "python",
   "nbconvert_exporter": "python",
   "pygments_lexer": "ipython3",
   "version": "3.9.13"
  }
 },
 "nbformat": 4,
 "nbformat_minor": 5
}
